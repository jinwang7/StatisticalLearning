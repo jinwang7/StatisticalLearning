{
 "cells": [
  {
   "cell_type": "markdown",
   "metadata": {},
   "source": [
    "# This is my first article "
   ]
  },
  {
   "cell_type": "markdown",
   "metadata": {},
   "source": [
    "As a data scientist, I often do a varity of analysis very day. I use R and Excel for most of my work. A while ago, my colleage ask me if I know Python, H2O and run machine learning algorithm with them. To be honest, I am not sure how to respond. I can understand why the curiocity comes from but I never want to learn Python for my data science work. The typcial work can rarely use large scale of dataset and most of my tackes is to estimate parameters. I don't think I need these additional skills just because they are popular. \n",
    "\n",
    "Anyway, I finally decide to learn Python myself because more and more new hires who only know it but not R. So this first article is my study note relative to how to \"Call R script from Python\".\n",
    "\n"
   ]
  },
  {
   "cell_type": "code",
   "execution_count": null,
   "metadata": {
    "collapsed": true
   },
   "outputs": [],
   "source": []
  }
 ],
 "metadata": {
  "kernelspec": {
   "display_name": "Python 3",
   "language": "python",
   "name": "python3"
  },
  "language_info": {
   "codemirror_mode": {
    "name": "ipython",
    "version": 3
   },
   "file_extension": ".py",
   "mimetype": "text/x-python",
   "name": "python",
   "nbconvert_exporter": "python",
   "pygments_lexer": "ipython3",
   "version": "3.6.4"
  }
 },
 "nbformat": 4,
 "nbformat_minor": 2
}
